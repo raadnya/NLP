{
  "nbformat": 4,
  "nbformat_minor": 0,
  "metadata": {
    "colab": {
      "provenance": []
    },
    "kernelspec": {
      "name": "python3",
      "display_name": "Python 3"
    },
    "language_info": {
      "name": "python"
    }
  },
  "cells": [
    {
      "cell_type": "markdown",
      "source": [
        "Part1"
      ],
      "metadata": {
        "id": "pmi7IrdxGcyK"
      }
    },
    {
      "cell_type": "code",
      "source": [
        "!pip install gensim"
      ],
      "metadata": {
        "colab": {
          "base_uri": "https://localhost:8080/"
        },
        "id": "G4tdr5AFGu37",
        "outputId": "8cdf3fd1-596c-4432-e5c7-4d505ada4873"
      },
      "execution_count": 1,
      "outputs": [
        {
          "output_type": "stream",
          "name": "stdout",
          "text": [
            "Requirement already satisfied: gensim in /usr/local/lib/python3.11/dist-packages (4.3.3)\n",
            "Requirement already satisfied: numpy<2.0,>=1.18.5 in /usr/local/lib/python3.11/dist-packages (from gensim) (1.26.4)\n",
            "Requirement already satisfied: scipy<1.14.0,>=1.7.0 in /usr/local/lib/python3.11/dist-packages (from gensim) (1.13.1)\n",
            "Requirement already satisfied: smart-open>=1.8.1 in /usr/local/lib/python3.11/dist-packages (from gensim) (7.3.0.post1)\n",
            "Requirement already satisfied: wrapt in /usr/local/lib/python3.11/dist-packages (from smart-open>=1.8.1->gensim) (1.17.2)\n"
          ]
        }
      ]
    },
    {
      "cell_type": "code",
      "source": [
        "import gensim.downloader as api\n",
        "\n",
        "# Load the pretrained word2vec model (can take a few minutes and needs ~1.5GB RAM)\n",
        "model = api.load(\"word2vec-google-news-300\")\n",
        "\n",
        "# 1. Pick 5 words and get similar words\n",
        "words = ['computer', 'banana', 'teacher', 'river', 'city']\n",
        "\n",
        "print(\"Similar words for selected terms:\\n\")\n",
        "for word in words:\n",
        "    print(f\"Top 5 words similar to '{word}':\")\n",
        "    for similar_word, score in model.most_similar(word, topn=5):\n",
        "        print(f\"  {similar_word} ({score:.3f})\")\n",
        "    print()\n",
        "\n",
        "# 2. Analogy Tests (similar to king - man + woman = queen)\n",
        "print(\"Word vector analogies:\\n\")\n",
        "\n",
        "# Example 1: king - man + woman ≈ queen\n",
        "print(\"king - man + woman =\", model.most_similar(positive=['king', 'woman'], negative=['man'], topn=1))\n",
        "\n",
        "# Example 2: paris - france + germany ≈ berlin\n",
        "print(\"paris - france + germany =\", model.most_similar(positive=['paris', 'germany'], negative=['france'], topn=1))\n",
        "\n",
        "# Example 3: walking - walk + swim ≈ swimming\n",
        "print(\"walking - walk + swim =\", model.most_similar(positive=['walking', 'swim'], negative=['walk'], topn=1))\n"
      ],
      "metadata": {
        "colab": {
          "base_uri": "https://localhost:8080/"
        },
        "id": "WyoVga7GGvs5",
        "outputId": "fa7468ad-a45a-4cd5-d967-ffc936e1818b"
      },
      "execution_count": 2,
      "outputs": [
        {
          "output_type": "stream",
          "name": "stdout",
          "text": [
            "[==================================================] 100.0% 1662.8/1662.8MB downloaded\n",
            "Similar words for selected terms:\n",
            "\n",
            "Top 5 words similar to 'computer':\n",
            "  computers (0.798)\n",
            "  laptop (0.664)\n",
            "  laptop_computer (0.655)\n",
            "  Computer (0.647)\n",
            "  com_puter (0.608)\n",
            "\n",
            "Top 5 words similar to 'banana':\n",
            "  bananas (0.752)\n",
            "  pineapple (0.659)\n",
            "  mango (0.637)\n",
            "  pineapples (0.631)\n",
            "  papaya (0.606)\n",
            "\n",
            "Top 5 words similar to 'teacher':\n",
            "  teachers (0.743)\n",
            "  Teacher (0.709)\n",
            "  guidance_counselor (0.696)\n",
            "  elementary (0.679)\n",
            "  PE_teacher (0.654)\n",
            "\n",
            "Top 5 words similar to 'river':\n",
            "  creek (0.799)\n",
            "  lake (0.792)\n",
            "  rivers (0.778)\n",
            "  riverbank (0.728)\n",
            "  canal (0.722)\n",
            "\n",
            "Top 5 words similar to 'city':\n",
            "  citys (0.680)\n",
            "  mayor (0.675)\n",
            "  town (0.672)\n",
            "  municipality (0.653)\n",
            "  municipal (0.622)\n",
            "\n",
            "Word vector analogies:\n",
            "\n",
            "king - man + woman = [('queen', 0.7118193507194519)]\n",
            "paris - france + germany = [('berlin', 0.48413652181625366)]\n",
            "walking - walk + swim = [('swimming', 0.8245975375175476)]\n"
          ]
        }
      ]
    },
    {
      "cell_type": "code",
      "source": [],
      "metadata": {
        "id": "dK0OCAYZNlkN"
      },
      "execution_count": null,
      "outputs": []
    }
  ]
}